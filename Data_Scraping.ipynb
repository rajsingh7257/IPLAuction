{
 "cells": [
  {
   "cell_type": "code",
   "execution_count": 1,
   "id": "dc8de9f6",
   "metadata": {},
   "outputs": [],
   "source": [
    "import pandas as pd\n",
    "import numpy as np\n",
    "import matplotlib.pyplot as plt\n",
    "import requests\n",
    "from bs4 import BeautifulSoup\n",
    "from tqdm import tqdm"
   ]
  },
  {
   "cell_type": "code",
   "execution_count": 2,
   "id": "78b75e63",
   "metadata": {},
   "outputs": [
    {
     "data": {
      "text/html": [
       "<div>\n",
       "<style scoped>\n",
       "    .dataframe tbody tr th:only-of-type {\n",
       "        vertical-align: middle;\n",
       "    }\n",
       "\n",
       "    .dataframe tbody tr th {\n",
       "        vertical-align: top;\n",
       "    }\n",
       "\n",
       "    .dataframe thead th {\n",
       "        text-align: right;\n",
       "    }\n",
       "</style>\n",
       "<table border=\"1\" class=\"dataframe\">\n",
       "  <thead>\n",
       "    <tr style=\"text-align: right;\">\n",
       "      <th></th>\n",
       "      <th>TID</th>\n",
       "      <th>PLAYER</th>\n",
       "      <th>NATIONALITY</th>\n",
       "      <th>TYPE</th>\n",
       "      <th>PRICE</th>\n",
       "      <th>SOLD/UNSOLD</th>\n",
       "      <th>TEAM</th>\n",
       "      <th>YEAR</th>\n",
       "    </tr>\n",
       "  </thead>\n",
       "  <tbody>\n",
       "    <tr>\n",
       "      <th>0</th>\n",
       "      <td>2022-Mumbai Indians</td>\n",
       "      <td>Ishan Kishan</td>\n",
       "      <td>Indian</td>\n",
       "      <td>Wicket Keeper</td>\n",
       "      <td>15,25,00,000</td>\n",
       "      <td>SOLD</td>\n",
       "      <td>Mumbai Indians</td>\n",
       "      <td>2022</td>\n",
       "    </tr>\n",
       "    <tr>\n",
       "      <th>1</th>\n",
       "      <td>2022-Chennai Super Kings</td>\n",
       "      <td>Deepak Chahar</td>\n",
       "      <td>Indian</td>\n",
       "      <td>Bowler</td>\n",
       "      <td>14,00,00,000</td>\n",
       "      <td>SOLD</td>\n",
       "      <td>Chennai Super Kings</td>\n",
       "      <td>2022</td>\n",
       "    </tr>\n",
       "    <tr>\n",
       "      <th>2</th>\n",
       "      <td>2022-Kolkata Knight Riders</td>\n",
       "      <td>Shreyas Iyer</td>\n",
       "      <td>Indian</td>\n",
       "      <td>Batsman</td>\n",
       "      <td>12,25,00,000</td>\n",
       "      <td>SOLD</td>\n",
       "      <td>Kolkata Knight Riders</td>\n",
       "      <td>2022</td>\n",
       "    </tr>\n",
       "    <tr>\n",
       "      <th>3</th>\n",
       "      <td>2022-Punjab Kings</td>\n",
       "      <td>Liam Livingstone</td>\n",
       "      <td>Overseas</td>\n",
       "      <td>All-Rounder</td>\n",
       "      <td>11,50,00,000</td>\n",
       "      <td>SOLD</td>\n",
       "      <td>Punjab Kings</td>\n",
       "      <td>2022</td>\n",
       "    </tr>\n",
       "    <tr>\n",
       "      <th>4</th>\n",
       "      <td>2022-Delhi Capitals</td>\n",
       "      <td>Shardul Thakur</td>\n",
       "      <td>Indian</td>\n",
       "      <td>Bowler</td>\n",
       "      <td>10,75,00,000</td>\n",
       "      <td>SOLD</td>\n",
       "      <td>Delhi Capitals</td>\n",
       "      <td>2022</td>\n",
       "    </tr>\n",
       "  </tbody>\n",
       "</table>\n",
       "</div>"
      ],
      "text/plain": [
       "                          TID            PLAYER NATIONALITY           TYPE  \\\n",
       "0         2022-Mumbai Indians      Ishan Kishan      Indian  Wicket Keeper   \n",
       "1    2022-Chennai Super Kings     Deepak Chahar      Indian         Bowler   \n",
       "2  2022-Kolkata Knight Riders      Shreyas Iyer      Indian        Batsman   \n",
       "3           2022-Punjab Kings  Liam Livingstone    Overseas    All-Rounder   \n",
       "4         2022-Delhi Capitals    Shardul Thakur      Indian         Bowler   \n",
       "\n",
       "           PRICE  SOLD/UNSOLD                   TEAM  YEAR  \n",
       "0   15,25,00,000         SOLD         Mumbai Indians  2022  \n",
       "1   14,00,00,000         SOLD    Chennai Super Kings  2022  \n",
       "2   12,25,00,000         SOLD  Kolkata Knight Riders  2022  \n",
       "3   11,50,00,000         SOLD           Punjab Kings  2022  \n",
       "4   10,75,00,000         SOLD         Delhi Capitals  2022  "
      ]
     },
     "execution_count": 2,
     "metadata": {},
     "output_type": "execute_result"
    }
   ],
   "source": [
    "player = pd.read_csv('IPL_AUCTION_2013-2022.csv')\n",
    "player.head()"
   ]
  },
  {
   "cell_type": "code",
   "execution_count": 3,
   "id": "b5575e39",
   "metadata": {},
   "outputs": [
    {
     "data": {
      "text/html": [
       "<div>\n",
       "<style scoped>\n",
       "    .dataframe tbody tr th:only-of-type {\n",
       "        vertical-align: middle;\n",
       "    }\n",
       "\n",
       "    .dataframe tbody tr th {\n",
       "        vertical-align: top;\n",
       "    }\n",
       "\n",
       "    .dataframe thead th {\n",
       "        text-align: right;\n",
       "    }\n",
       "</style>\n",
       "<table border=\"1\" class=\"dataframe\">\n",
       "  <thead>\n",
       "    <tr style=\"text-align: right;\">\n",
       "      <th></th>\n",
       "      <th>PLAYER</th>\n",
       "      <th>TYPE</th>\n",
       "      <th>PRICE</th>\n",
       "      <th>SOLD/UNSOLD</th>\n",
       "      <th>YEAR</th>\n",
       "    </tr>\n",
       "  </thead>\n",
       "  <tbody>\n",
       "    <tr>\n",
       "      <th>0</th>\n",
       "      <td>Ishan Kishan</td>\n",
       "      <td>Wicket Keeper</td>\n",
       "      <td>15,25,00,000</td>\n",
       "      <td>SOLD</td>\n",
       "      <td>2022</td>\n",
       "    </tr>\n",
       "    <tr>\n",
       "      <th>1</th>\n",
       "      <td>Deepak Chahar</td>\n",
       "      <td>Bowler</td>\n",
       "      <td>14,00,00,000</td>\n",
       "      <td>SOLD</td>\n",
       "      <td>2022</td>\n",
       "    </tr>\n",
       "    <tr>\n",
       "      <th>2</th>\n",
       "      <td>Shreyas Iyer</td>\n",
       "      <td>Batsman</td>\n",
       "      <td>12,25,00,000</td>\n",
       "      <td>SOLD</td>\n",
       "      <td>2022</td>\n",
       "    </tr>\n",
       "    <tr>\n",
       "      <th>3</th>\n",
       "      <td>Liam Livingstone</td>\n",
       "      <td>All-Rounder</td>\n",
       "      <td>11,50,00,000</td>\n",
       "      <td>SOLD</td>\n",
       "      <td>2022</td>\n",
       "    </tr>\n",
       "    <tr>\n",
       "      <th>4</th>\n",
       "      <td>Shardul Thakur</td>\n",
       "      <td>Bowler</td>\n",
       "      <td>10,75,00,000</td>\n",
       "      <td>SOLD</td>\n",
       "      <td>2022</td>\n",
       "    </tr>\n",
       "  </tbody>\n",
       "</table>\n",
       "</div>"
      ],
      "text/plain": [
       "             PLAYER           TYPE          PRICE  SOLD/UNSOLD  YEAR\n",
       "0      Ishan Kishan  Wicket Keeper   15,25,00,000         SOLD  2022\n",
       "1     Deepak Chahar         Bowler   14,00,00,000         SOLD  2022\n",
       "2      Shreyas Iyer        Batsman   12,25,00,000         SOLD  2022\n",
       "3  Liam Livingstone    All-Rounder   11,50,00,000         SOLD  2022\n",
       "4    Shardul Thakur         Bowler   10,75,00,000         SOLD  2022"
      ]
     },
     "execution_count": 3,
     "metadata": {},
     "output_type": "execute_result"
    }
   ],
   "source": [
    "player.drop(['TID','NATIONALITY','TEAM'],axis=1,inplace=True)\n",
    "player.head()"
   ]
  },
  {
   "cell_type": "code",
   "execution_count": 4,
   "id": "d8c2083f",
   "metadata": {
    "scrolled": false
   },
   "outputs": [
    {
     "name": "stdout",
     "output_type": "stream",
     "text": [
      "<class 'pandas.core.frame.DataFrame'>\n",
      "Int64Index: 970 entries, 0 to 3837\n",
      "Data columns (total 5 columns):\n",
      " #   Column       Non-Null Count  Dtype \n",
      "---  ------       --------------  ----- \n",
      " 0   PLAYER       970 non-null    object\n",
      " 1   TYPE         970 non-null    object\n",
      " 2    PRICE       970 non-null    object\n",
      " 3   SOLD/UNSOLD  970 non-null    object\n",
      " 4   YEAR         970 non-null    int64 \n",
      "dtypes: int64(1), object(4)\n",
      "memory usage: 45.5+ KB\n"
     ]
    }
   ],
   "source": [
    "player = player[player['SOLD/UNSOLD']=='SOLD']\n",
    "player.info()"
   ]
  },
  {
   "cell_type": "code",
   "execution_count": 5,
   "id": "d06694e8",
   "metadata": {},
   "outputs": [
    {
     "name": "stderr",
     "output_type": "stream",
     "text": [
      "100%|██████████| 970/970 [23:30<00:00,  1.45s/it]\n"
     ]
    }
   ],
   "source": [
    "df_no = []\n",
    "df_batting = []\n",
    "for name in tqdm(player['PLAYER']):\n",
    "    try:\n",
    "        url = 'https://search.espncricinfo.com/ci/content/site/search.html?search=' + name.lower().replace(' ','+') + '&x=0&y=0'\n",
    "        page=requests.get(url)\n",
    "        soup = BeautifulSoup(page.content,'html.parser')\n",
    "        player_id = str(soup.find_all('h3')[0]).split('.html')[0].split('/')[-1]\n",
    "        df = pd.read_html(f'https://stats.espncricinfo.com/ci/engine/player/{player_id}.html?class=11;template=results;type=batting;view=innings')[3]\n",
    "        df['Name'] = name\n",
    "        df_batting.append(df)\n",
    "    except:\n",
    "        df_no.append(df)\n"
   ]
  },
  {
   "cell_type": "code",
   "execution_count": 6,
   "id": "1e77c5ac",
   "metadata": {},
   "outputs": [],
   "source": [
    "df_batting = pd.concat(df_batting)\n",
    "df_no = pd.concat(df_no)"
   ]
  },
  {
   "cell_type": "code",
   "execution_count": 7,
   "id": "ed53d2ff",
   "metadata": {},
   "outputs": [
    {
     "name": "stderr",
     "output_type": "stream",
     "text": [
      "100%|██████████| 970/970 [23:21<00:00,  1.44s/it]\n"
     ]
    }
   ],
   "source": [
    "df_nb = []\n",
    "df_bowling = []\n",
    "for name in tqdm(player['PLAYER']):\n",
    "    try:\n",
    "        url = 'https://search.espncricinfo.com/ci/content/site/search.html?search=' + name.lower().replace(' ','+') + '&x=0&y=0'\n",
    "        page=requests.get(url)\n",
    "        soup = BeautifulSoup(page.content,'html.parser')\n",
    "        player_id = str(soup.find_all('h3')[0]).split('.html')[0].split('/')[-1]\n",
    "        df = pd.read_html(f'https://stats.espncricinfo.com/ci/engine/player/{player_id}.html?class=11;template=results;type=bowling;view=innings')[3]\n",
    "        df['Name'] = name\n",
    "        df_bowling.append(df)\n",
    "    except:\n",
    "        df_nb.append(df)\n"
   ]
  },
  {
   "cell_type": "code",
   "execution_count": 8,
   "id": "60610d99",
   "metadata": {},
   "outputs": [],
   "source": [
    "df_bowling = pd.concat(df_bowling)\n",
    "df_nb = pd.concat(df_nb)"
   ]
  },
  {
   "cell_type": "code",
   "execution_count": 9,
   "id": "0976e87b",
   "metadata": {},
   "outputs": [],
   "source": [
    "df_batting.to_csv('batting.csv',index=False)\n",
    "df_bowling.to_csv('bowling.csv',index=False)\n",
    "df_no.to_csv('notbat.csv',index=False)\n",
    "df_nb.to_csv('notbowl.csv',index=False)"
   ]
  },
  {
   "cell_type": "code",
   "execution_count": null,
   "id": "40a7f219",
   "metadata": {},
   "outputs": [],
   "source": []
  },
  {
   "cell_type": "code",
   "execution_count": null,
   "id": "aca26cc3",
   "metadata": {},
   "outputs": [],
   "source": []
  },
  {
   "cell_type": "code",
   "execution_count": null,
   "id": "255ceab5",
   "metadata": {},
   "outputs": [],
   "source": []
  },
  {
   "cell_type": "code",
   "execution_count": null,
   "id": "c1dc46cd",
   "metadata": {},
   "outputs": [],
   "source": []
  },
  {
   "cell_type": "code",
   "execution_count": null,
   "id": "0ba7e0b8",
   "metadata": {},
   "outputs": [],
   "source": []
  },
  {
   "cell_type": "code",
   "execution_count": null,
   "id": "aa9c2ea1",
   "metadata": {},
   "outputs": [],
   "source": []
  },
  {
   "cell_type": "code",
   "execution_count": null,
   "id": "5ad9c30b",
   "metadata": {},
   "outputs": [],
   "source": []
  },
  {
   "cell_type": "code",
   "execution_count": null,
   "id": "74bccabc",
   "metadata": {},
   "outputs": [],
   "source": []
  },
  {
   "cell_type": "code",
   "execution_count": null,
   "id": "b211fc94",
   "metadata": {},
   "outputs": [],
   "source": []
  },
  {
   "cell_type": "code",
   "execution_count": null,
   "id": "9239d858",
   "metadata": {},
   "outputs": [],
   "source": []
  },
  {
   "cell_type": "code",
   "execution_count": null,
   "id": "ea4dd42f",
   "metadata": {},
   "outputs": [],
   "source": []
  },
  {
   "cell_type": "code",
   "execution_count": null,
   "id": "92e405dd",
   "metadata": {},
   "outputs": [],
   "source": []
  },
  {
   "cell_type": "code",
   "execution_count": null,
   "id": "ae4bff86",
   "metadata": {},
   "outputs": [],
   "source": []
  },
  {
   "cell_type": "code",
   "execution_count": null,
   "id": "9cec504f",
   "metadata": {},
   "outputs": [],
   "source": []
  },
  {
   "cell_type": "code",
   "execution_count": null,
   "id": "44147218",
   "metadata": {},
   "outputs": [],
   "source": []
  },
  {
   "cell_type": "code",
   "execution_count": null,
   "id": "16223f88",
   "metadata": {},
   "outputs": [],
   "source": []
  },
  {
   "cell_type": "code",
   "execution_count": null,
   "id": "78c95610",
   "metadata": {},
   "outputs": [],
   "source": []
  },
  {
   "cell_type": "code",
   "execution_count": null,
   "id": "2eb2a5d4",
   "metadata": {},
   "outputs": [],
   "source": []
  },
  {
   "cell_type": "code",
   "execution_count": null,
   "id": "9d6c200e",
   "metadata": {},
   "outputs": [],
   "source": []
  },
  {
   "cell_type": "code",
   "execution_count": null,
   "id": "b0ef26eb",
   "metadata": {},
   "outputs": [],
   "source": []
  },
  {
   "cell_type": "code",
   "execution_count": null,
   "id": "72696af6",
   "metadata": {},
   "outputs": [],
   "source": []
  },
  {
   "cell_type": "code",
   "execution_count": null,
   "id": "cccaaa57",
   "metadata": {},
   "outputs": [],
   "source": []
  },
  {
   "cell_type": "code",
   "execution_count": null,
   "id": "99b4fe8f",
   "metadata": {},
   "outputs": [],
   "source": []
  },
  {
   "cell_type": "code",
   "execution_count": null,
   "id": "2323fbeb",
   "metadata": {},
   "outputs": [],
   "source": []
  },
  {
   "cell_type": "code",
   "execution_count": null,
   "id": "e45fa8c5",
   "metadata": {},
   "outputs": [],
   "source": []
  },
  {
   "cell_type": "code",
   "execution_count": null,
   "id": "15f6ff67",
   "metadata": {},
   "outputs": [],
   "source": []
  },
  {
   "cell_type": "code",
   "execution_count": null,
   "id": "b1d99a6b",
   "metadata": {},
   "outputs": [],
   "source": []
  },
  {
   "cell_type": "code",
   "execution_count": null,
   "id": "e1df6c1a",
   "metadata": {},
   "outputs": [],
   "source": []
  },
  {
   "cell_type": "code",
   "execution_count": null,
   "id": "66f663f8",
   "metadata": {},
   "outputs": [],
   "source": []
  },
  {
   "cell_type": "code",
   "execution_count": null,
   "id": "a68589dd",
   "metadata": {},
   "outputs": [],
   "source": []
  },
  {
   "cell_type": "code",
   "execution_count": null,
   "id": "cfb530e3",
   "metadata": {},
   "outputs": [],
   "source": []
  },
  {
   "cell_type": "code",
   "execution_count": null,
   "id": "efad0669",
   "metadata": {},
   "outputs": [],
   "source": []
  }
 ],
 "metadata": {
  "kernelspec": {
   "display_name": "Python 3 (ipykernel)",
   "language": "python",
   "name": "python3"
  },
  "language_info": {
   "codemirror_mode": {
    "name": "ipython",
    "version": 3
   },
   "file_extension": ".py",
   "mimetype": "text/x-python",
   "name": "python",
   "nbconvert_exporter": "python",
   "pygments_lexer": "ipython3",
   "version": "3.9.13"
  }
 },
 "nbformat": 4,
 "nbformat_minor": 5
}
